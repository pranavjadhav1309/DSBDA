{
 "cells": [
  {
   "cell_type": "code",
   "execution_count": 1,
   "id": "e213bd2c",
   "metadata": {},
   "outputs": [],
   "source": [
    "import pandas as pd"
   ]
  },
  {
   "cell_type": "code",
   "execution_count": 2,
   "id": "898b8a64",
   "metadata": {},
   "outputs": [
    {
     "name": "stdout",
     "output_type": "stream",
     "text": [
      "        City        Date  PM2.5  PM10     NO    NO2    NOx  NH3     CO    SO2  \\\n",
      "0  Ahmedabad  2015-01-01    NaN   NaN   0.92  18.22  17.15  NaN   0.92  27.64   \n",
      "1  Ahmedabad  2015-01-02    NaN   NaN   0.97  15.69  16.46  NaN   0.97  24.55   \n",
      "2  Ahmedabad  2015-01-03    NaN   NaN  17.40  19.30  29.70  NaN  17.40  29.07   \n",
      "3  Ahmedabad  2015-01-04    NaN   NaN   1.70  18.48  17.97  NaN   1.70  18.59   \n",
      "4  Ahmedabad  2015-01-05    NaN   NaN  22.10  21.42  37.76  NaN  22.10  39.33   \n",
      "\n",
      "       O3  Benzene  Toluene  Xylene  AQI AQI_Bucket  \n",
      "0  133.36     0.00     0.02    0.00  NaN        NaN  \n",
      "1   34.06     3.68     5.50    3.77  NaN        NaN  \n",
      "2   30.70     6.80    16.40    2.25  NaN        NaN  \n",
      "3   36.08     4.43    10.14    1.00  NaN        NaN  \n",
      "4   39.31     7.01    18.89    2.78  NaN        NaN  \n"
     ]
    }
   ],
   "source": [
    "df = pd.read_csv('city_day.csv',sep=',');\n",
    "print(df.head())"
   ]
  },
  {
   "cell_type": "code",
   "execution_count": 3,
   "id": "524829f3",
   "metadata": {},
   "outputs": [
    {
     "name": "stdout",
     "output_type": "stream",
     "text": [
      "\n",
      "After Dropping PM10 column\n",
      "        City        Date  PM2.5     NO    NO2    NOx  NH3     CO    SO2  \\\n",
      "0  Ahmedabad  2015-01-01    NaN   0.92  18.22  17.15  NaN   0.92  27.64   \n",
      "1  Ahmedabad  2015-01-02    NaN   0.97  15.69  16.46  NaN   0.97  24.55   \n",
      "2  Ahmedabad  2015-01-03    NaN  17.40  19.30  29.70  NaN  17.40  29.07   \n",
      "3  Ahmedabad  2015-01-04    NaN   1.70  18.48  17.97  NaN   1.70  18.59   \n",
      "4  Ahmedabad  2015-01-05    NaN  22.10  21.42  37.76  NaN  22.10  39.33   \n",
      "\n",
      "       O3  Benzene  Toluene  Xylene  AQI AQI_Bucket  \n",
      "0  133.36     0.00     0.02    0.00  NaN        NaN  \n",
      "1   34.06     3.68     5.50    3.77  NaN        NaN  \n",
      "2   30.70     6.80    16.40    2.25  NaN        NaN  \n",
      "3   36.08     4.43    10.14    1.00  NaN        NaN  \n",
      "4   39.31     7.01    18.89    2.78  NaN        NaN  \n"
     ]
    }
   ],
   "source": [
    "newdf=df.drop(['PM10'],axis=1)\n",
    "print(\"\\nAfter Dropping PM10 column\")\n",
    "print(newdf.head())"
   ]
  },
  {
   "cell_type": "code",
   "execution_count": 4,
   "id": "67ee9294",
   "metadata": {},
   "outputs": [
    {
     "name": "stdout",
     "output_type": "stream",
     "text": [
      "\n",
      "count Data types of columns:\n",
      "\n",
      "float64    12\n",
      "object      3\n",
      "dtype: int64\n"
     ]
    }
   ],
   "source": [
    "print(\"\\ncount Data types of columns:\\n\")\n",
    "print(newdf.dtypes.value_counts())"
   ]
  },
  {
   "cell_type": "code",
   "execution_count": 5,
   "id": "1f643159",
   "metadata": {},
   "outputs": [
    {
     "name": "stdout",
     "output_type": "stream",
     "text": [
      "0    2015-01-01\n",
      "1    2015-01-02\n",
      "2    2015-01-03\n",
      "3    2015-01-04\n",
      "4    2015-01-05\n",
      "Name: Date, dtype: object\n",
      "\n",
      " Data types of date:    datetime64[ns]\n"
     ]
    }
   ],
   "source": [
    "extr = newdf['Date']\n",
    "print(extr.head())\n",
    "newdf['Date'] = pd.to_datetime(extr)\n",
    "print(\"\\n Data types of date:   \",newdf['Date'].dtype)"
   ]
  },
  {
   "cell_type": "code",
   "execution_count": 6,
   "id": "b6529224",
   "metadata": {},
   "outputs": [
    {
     "name": "stdout",
     "output_type": "stream",
     "text": [
      "\n",
      " Is missing values:  True\n"
     ]
    }
   ],
   "source": [
    "print(\"\\n Is missing values: \",df.isnull().values.any())"
   ]
  },
  {
   "cell_type": "code",
   "execution_count": 7,
   "id": "0b80d6d1",
   "metadata": {},
   "outputs": [
    {
     "name": "stdout",
     "output_type": "stream",
     "text": [
      "\n",
      " Is missing values after dropping:  False\n"
     ]
    }
   ],
   "source": [
    "drop_newdf=newdf.dropna()\n",
    "print(\"\\n Is missing values after dropping: \",drop_newdf.isnull().values.any())"
   ]
  },
  {
   "cell_type": "code",
   "execution_count": 8,
   "id": "0d03702f",
   "metadata": {},
   "outputs": [
    {
     "name": "stdout",
     "output_type": "stream",
     "text": [
      "0         0.00\n",
      "1         0.00\n",
      "2         0.00\n",
      "3         0.00\n",
      "4         0.00\n",
      "         ...  \n",
      "29526    15.02\n",
      "29527    24.38\n",
      "29528    22.91\n",
      "29529    16.64\n",
      "29530    15.00\n",
      "Name: PM2.5, Length: 29531, dtype: float64\n"
     ]
    }
   ],
   "source": [
    "replace_newdf=newdf\n",
    "replace_newdf['PM2.5']=newdf['PM2.5'].fillna(0)\n",
    "print(replace_newdf['PM2.5'])"
   ]
  },
  {
   "cell_type": "code",
   "execution_count": 9,
   "id": "3669bb3b",
   "metadata": {},
   "outputs": [
    {
     "name": "stdout",
     "output_type": "stream",
     "text": [
      "                City       Date  PM2.5     NO    NO2    NOx    NH3     CO  \\\n",
      "0          Ahmedabad 2015-01-01   0.00   0.92  18.22  17.15   0.00   0.92   \n",
      "1          Ahmedabad 2015-01-02   0.00   0.97  15.69  16.46   0.00   0.97   \n",
      "2          Ahmedabad 2015-01-03   0.00  17.40  19.30  29.70   0.00  17.40   \n",
      "3          Ahmedabad 2015-01-04   0.00   1.70  18.48  17.97   0.00   1.70   \n",
      "4          Ahmedabad 2015-01-05   0.00  22.10  21.42  37.76   0.00  22.10   \n",
      "...              ...        ...    ...    ...    ...    ...    ...    ...   \n",
      "29526  Visakhapatnam 2020-06-27  15.02   7.68  25.06  19.54  12.47   0.47   \n",
      "29527  Visakhapatnam 2020-06-28  24.38   3.42  26.06  16.53  11.99   0.52   \n",
      "29528  Visakhapatnam 2020-06-29  22.91   3.45  29.53  18.33  10.71   0.48   \n",
      "29529  Visakhapatnam 2020-06-30  16.64   4.05  29.26  18.80  10.03   0.52   \n",
      "29530  Visakhapatnam 2020-07-01  15.00   0.40  26.85  14.05   5.20   0.59   \n",
      "\n",
      "         SO2      O3  Benzene  Toluene  Xylene   AQI    AQI_Bucket  \n",
      "0      27.64  133.36     0.00     0.02    0.00   0.0             0  \n",
      "1      24.55   34.06     3.68     5.50    3.77   0.0             0  \n",
      "2      29.07   30.70     6.80    16.40    2.25   0.0             0  \n",
      "3      18.59   36.08     4.43    10.14    1.00   0.0             0  \n",
      "4      39.33   39.31     7.01    18.89    2.78   0.0             0  \n",
      "...      ...     ...      ...      ...     ...   ...           ...  \n",
      "29526   8.55   23.30     2.24    12.07    0.73  41.0          Good  \n",
      "29527  12.72   30.14     0.74     2.21    0.38  70.0  Satisfactory  \n",
      "29528   8.42   30.96     0.01     0.01    0.00  68.0  Satisfactory  \n",
      "29529   9.84   28.30     0.00     0.00    0.00  54.0  Satisfactory  \n",
      "29530   2.10   17.05     0.00     0.00    0.00  50.0          Good  \n",
      "\n",
      "[29531 rows x 15 columns]\n"
     ]
    }
   ],
   "source": [
    "replace_newdf=newdf.fillna(0)\n",
    "print(replace_newdf)"
   ]
  },
  {
   "cell_type": "code",
   "execution_count": 10,
   "id": "5560ff5e",
   "metadata": {},
   "outputs": [
    {
     "name": "stdout",
     "output_type": "stream",
     "text": [
      "0        False\n",
      "1        False\n",
      "2        False\n",
      "3        False\n",
      "4        False\n",
      "         ...  \n",
      "29526    False\n",
      "29527    False\n",
      "29528    False\n",
      "29529    False\n",
      "29530    False\n",
      "Length: 29531, dtype: bool\n"
     ]
    }
   ],
   "source": [
    "print(newdf.duplicated())"
   ]
  },
  {
   "cell_type": "code",
   "execution_count": 11,
   "id": "650cb65c",
   "metadata": {},
   "outputs": [
    {
     "name": "stdout",
     "output_type": "stream",
     "text": [
      "        City       Date  PM2.5     NO    NO2    NOx  NH3     CO    SO2     O3  \\\n",
      "1  Ahmedabad 2015-01-02    0.0   0.97  15.69  16.46  NaN   0.97  24.55  34.06   \n",
      "2  Ahmedabad 2015-01-03    0.0  17.40  19.30  29.70  NaN  17.40  29.07  30.70   \n",
      "3  Ahmedabad 2015-01-04    0.0   1.70  18.48  17.97  NaN   1.70  18.59  36.08   \n",
      "4  Ahmedabad 2015-01-05    0.0  22.10  21.42  37.76  NaN  22.10  39.33  39.31   \n",
      "5  Ahmedabad 2015-01-06    0.0  45.41  38.48  81.50  NaN  45.41  45.76  46.51   \n",
      "\n",
      "   Benzene  Toluene  Xylene  AQI AQI_Bucket  \n",
      "1     3.68     5.50    3.77  NaN        NaN  \n",
      "2     6.80    16.40    2.25  NaN        NaN  \n",
      "3     4.43    10.14    1.00  NaN        NaN  \n",
      "4     7.01    18.89    2.78  NaN        NaN  \n",
      "5     5.42    10.83    1.93  NaN        NaN  \n"
     ]
    }
   ],
   "source": [
    "\n",
    "subset1=newdf[1:6]\n",
    "print(subset1)"
   ]
  },
  {
   "cell_type": "code",
   "execution_count": 12,
   "id": "a357aa35",
   "metadata": {},
   "outputs": [
    {
     "name": "stdout",
     "output_type": "stream",
     "text": [
      "         City       Date  PM2.5      NO    NO2     NOx  NH3      CO    SO2  \\\n",
      "6   Ahmedabad 2015-01-07    0.0  112.16  40.62  130.77  NaN  112.16  32.28   \n",
      "7   Ahmedabad 2015-01-08    0.0   80.87  36.74   96.75  NaN   80.87  38.54   \n",
      "8   Ahmedabad 2015-01-09    0.0   29.16  31.00   48.00  NaN   29.16  58.68   \n",
      "9   Ahmedabad 2015-01-10    0.0     NaN   7.04    0.00  NaN     NaN   8.29   \n",
      "10  Ahmedabad 2015-01-11    0.0  132.07  55.80   24.53  NaN  132.07  25.03   \n",
      "\n",
      "       O3  Benzene  Toluene  Xylene  AQI AQI_Bucket  \n",
      "6   33.47      0.0      0.0     0.0  NaN        NaN  \n",
      "7   31.89      0.0      0.0     0.0  NaN        NaN  \n",
      "8   25.75      0.0      0.0     0.0  NaN        NaN  \n",
      "9    4.55      0.0      0.0     0.0  NaN        NaN  \n",
      "10   6.79      0.0      0.0     0.0  NaN        NaN  \n",
      "        City       Date  PM2.5      NO    NO2     NOx  NH3      CO    SO2  \\\n",
      "0  Ahmedabad 2015-01-02    0.0    0.97  15.69   16.46  NaN    0.97  24.55   \n",
      "1  Ahmedabad 2015-01-03    0.0   17.40  19.30   29.70  NaN   17.40  29.07   \n",
      "2  Ahmedabad 2015-01-04    0.0    1.70  18.48   17.97  NaN    1.70  18.59   \n",
      "3  Ahmedabad 2015-01-05    0.0   22.10  21.42   37.76  NaN   22.10  39.33   \n",
      "4  Ahmedabad 2015-01-06    0.0   45.41  38.48   81.50  NaN   45.41  45.76   \n",
      "5  Ahmedabad 2015-01-07    0.0  112.16  40.62  130.77  NaN  112.16  32.28   \n",
      "6  Ahmedabad 2015-01-08    0.0   80.87  36.74   96.75  NaN   80.87  38.54   \n",
      "7  Ahmedabad 2015-01-09    0.0   29.16  31.00   48.00  NaN   29.16  58.68   \n",
      "8  Ahmedabad 2015-01-10    0.0     NaN   7.04    0.00  NaN     NaN   8.29   \n",
      "9  Ahmedabad 2015-01-11    0.0  132.07  55.80   24.53  NaN  132.07  25.03   \n",
      "\n",
      "      O3  Benzene  Toluene  Xylene  AQI AQI_Bucket  \n",
      "0  34.06     3.68     5.50    3.77  NaN        NaN  \n",
      "1  30.70     6.80    16.40    2.25  NaN        NaN  \n",
      "2  36.08     4.43    10.14    1.00  NaN        NaN  \n",
      "3  39.31     7.01    18.89    2.78  NaN        NaN  \n",
      "4  46.51     5.42    10.83    1.93  NaN        NaN  \n",
      "5  33.47     0.00     0.00    0.00  NaN        NaN  \n",
      "6  31.89     0.00     0.00    0.00  NaN        NaN  \n",
      "7  25.75     0.00     0.00    0.00  NaN        NaN  \n",
      "8   4.55     0.00     0.00    0.00  NaN        NaN  \n",
      "9   6.79     0.00     0.00    0.00  NaN        NaN  \n"
     ]
    }
   ],
   "source": [
    "subset2=newdf[6:11]\n",
    "print(subset2)\n",
    "subset3=pd.concat([subset1, subset2], axis=0, ignore_index=True)\n",
    "print(subset3)"
   ]
  },
  {
   "cell_type": "code",
   "execution_count": 13,
   "id": "fcb95833",
   "metadata": {},
   "outputs": [
    {
     "name": "stdout",
     "output_type": "stream",
     "text": [
      "dataset:\n",
      "     fruit customer  quantity\n",
      "0    apple      ben         1\n",
      "1   orange    alice         2\n",
      "2    apple      ben         3\n",
      "3  avocado     josh         1\n",
      "4   orange    steve         2\n",
      "Pivote Table:\n",
      "customer  alice  ben  josh  steve\n",
      "fruit                            \n",
      "apple       NaN  2.0   NaN    NaN\n",
      "avocado     NaN  NaN   1.0    NaN\n",
      "orange      2.0  NaN   NaN    2.0\n"
     ]
    }
   ],
   "source": [
    "df1 = pd.DataFrame(\n",
    "    {\n",
    "        \"fruit\": [\"apple\", \"orange\", \"apple\", \"avocado\", \"orange\"],\n",
    "        \"customer\": [\"ben\", \"alice\", \"ben\", \"josh\", \"steve\"],\n",
    "        \"quantity\": [1, 2, 3, 1, 2],\n",
    "    }\n",
    ")\n",
    "print(\"dataset:\");\n",
    "print(df1);\n",
    "print(\"Pivote Table:\");\n",
    "print(df1.pivot_table(index=\"fruit\", columns=\"customer\", values=\"quantity\", aggfunc='mean'))\n"
   ]
  },
  {
   "cell_type": "code",
   "execution_count": null,
   "id": "ea73b9ea",
   "metadata": {},
   "outputs": [],
   "source": []
  }
 ],
 "metadata": {
  "kernelspec": {
   "display_name": "Python 3 (ipykernel)",
   "language": "python",
   "name": "python3"
  },
  "language_info": {
   "codemirror_mode": {
    "name": "ipython",
    "version": 3
   },
   "file_extension": ".py",
   "mimetype": "text/x-python",
   "name": "python",
   "nbconvert_exporter": "python",
   "pygments_lexer": "ipython3",
   "version": "3.9.6"
  }
 },
 "nbformat": 4,
 "nbformat_minor": 5
}
